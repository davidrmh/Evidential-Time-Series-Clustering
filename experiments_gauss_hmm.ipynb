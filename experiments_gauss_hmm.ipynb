{
 "cells": [
  {
   "cell_type": "markdown",
   "id": "a84d7332",
   "metadata": {},
   "source": [
    "# Experiments Gaussian HHM"
   ]
  },
  {
   "cell_type": "code",
   "execution_count": 1,
   "id": "61c2b209",
   "metadata": {},
   "outputs": [
    {
     "name": "stderr",
     "output_type": "stream",
     "text": [
      "WARNING:jax._src.lib.xla_bridge:No GPU/TPU found, falling back to CPU. (Set TF_CPP_MIN_LOG_LEVEL=0 and rerun for more info.)\n"
     ]
    }
   ],
   "source": [
    "from dynamax.hidden_markov_model import GaussianHMM\n",
    "from dynamax.hidden_markov_model import DiagonalGaussianHMM\n",
    "from dynamax.hidden_markov_model import SphericalGaussianHMM\n",
    "from dynamax.hidden_markov_model import SharedCovarianceGaussianHMM\n",
    "import matplotlib.pyplot as plt\n",
    "import hmm_datasets as hd\n",
    "import gauss_hmm as gh\n",
    "import jax.random as jr"
   ]
  },
  {
   "cell_type": "code",
   "execution_count": 2,
   "id": "dd3a4bb2",
   "metadata": {},
   "outputs": [],
   "source": [
    "# Inputs for gathering the data\n",
    "path = './data/stocks'\n",
    "old_first = True\n",
    "start = '2022-01-01'\n",
    "end = '2022-04-30'\n",
    "sep = '_'\n",
    "period_len = 81\n",
    "stocks = hd.StockData(path = path,\n",
    "                      start = start,\n",
    "                      end = end, \n",
    "                      old_first = old_first,\n",
    "                      sep=sep)\n",
    "\n",
    "# Inputs for training the model\n",
    "key = jr.PRNGKey(10)\n",
    "init_method = 'prior'"
   ]
  },
  {
   "cell_type": "markdown",
   "id": "d677ac54",
   "metadata": {},
   "source": [
    "## Log returns using Adj Close price\n",
    "\n",
    "* `mkt_ret` (jnp.array) contains the returns of all stocks in one table. Shape is (batches, period_len, attributes)\n",
    "* `stk_ret` (Dict) is a dictionary with arrays containing the returns of each stock series. The shape of each array is (batches, period_len, attributes)"
   ]
  },
  {
   "cell_type": "code",
   "execution_count": 13,
   "id": "377a2d7a",
   "metadata": {},
   "outputs": [],
   "source": [
    "# Log return data\n",
    "returns = stocks.get_log_returns()\n",
    "mkt_ret = hd.join(returns)\n",
    "mkt_ret = hd.create_batches(mkt_ret.to_numpy(),\n",
    "                                  period_len = period_len,\n",
    "                                  old_first = old_first)\n",
    "stk_ret = {}\n",
    "for s in returns.keys():\n",
    "    stk_ret[s] = hd.create_batches(returns[s].to_numpy(), period_len = period_len, old_first = old_first)"
   ]
  },
  {
   "cell_type": "markdown",
   "id": "69752fec",
   "metadata": {},
   "source": [
    "### Create folds using one-batch-out\n",
    "* `mkt_folds` (list). List containing the folds for mkt_ret.\n",
    "* `stk_folds` (Dict). Dictionary with lists. Each list contains the fold of a stock series."
   ]
  },
  {
   "cell_type": "code",
   "execution_count": 14,
   "id": "3b2f4ccd",
   "metadata": {},
   "outputs": [],
   "source": [
    "# Input: Embargo parameter \n",
    "# (See Lopez de Prado - Advances in Financial Machine Learning, Chapter 7)\n",
    "e = 0"
   ]
  },
  {
   "cell_type": "code",
   "execution_count": 15,
   "id": "266a62e8",
   "metadata": {},
   "outputs": [],
   "source": [
    "# Folds for mkt_ret\n",
    "mkt_folds = hd.make_folds(mkt_ret, e)"
   ]
  },
  {
   "cell_type": "code",
   "execution_count": 16,
   "id": "16850339",
   "metadata": {},
   "outputs": [],
   "source": [
    "# Folds for each stock\n",
    "stk_folds = {}\n",
    "for s in stk_ret:\n",
    "    stk_folds[s] = hd.make_folds(stk_ret[s], e)"
   ]
  },
  {
   "cell_type": "markdown",
   "id": "4e8ebeb1",
   "metadata": {},
   "source": [
    "### Find the number of hidden states using cross-validation"
   ]
  },
  {
   "cell_type": "code",
   "execution_count": 7,
   "id": "d79fda19",
   "metadata": {},
   "outputs": [],
   "source": [
    "model = SharedCovarianceGaussianHMM"
   ]
  },
  {
   "cell_type": "code",
   "execution_count": 8,
   "id": "dcb27403",
   "metadata": {},
   "outputs": [
    {
     "name": "stdout",
     "output_type": "stream",
     "text": [
      "=== Starting fitting with 8 states === \n",
      "\n",
      "=== Starting fitting with 9 states === 00:00<00:00]\n",
      "\n",
      "=== Starting fitting with 10 states === 0:01<00:00]\n",
      "\n",
      "=== Starting fitting with 11 states === 0:01<00:00]\n",
      "\n",
      "=== Starting fitting with 12 states === 0:01<00:00]\n",
      "\n",
      "=== Starting fitting with 13 states === 0:01<00:00]\n",
      "\n",
      "=== Starting fitting with 14 states === 0:01<00:00]\n",
      "\n",
      " |████████████████████| 100.00% [50/50 00:01<00:00]\r"
     ]
    }
   ],
   "source": [
    "# Using whole market perspective\n",
    "states = range(8, 15)\n",
    "avgloglike = gh.cross_val_states_em(model, states, stk_folds['T'], init_method, key)"
   ]
  },
  {
   "cell_type": "code",
   "execution_count": 9,
   "id": "222735f2",
   "metadata": {},
   "outputs": [
    {
     "data": {
      "image/png": "[encoded data removed]",
      "text/plain": [
       "<Figure size 432x288 with 1 Axes>"
      ]
     },
     "metadata": {},
     "output_type": "display_data"
    }
   ],
   "source": [
    "plt.plot(states, avgloglike, '.-')\n",
    "plt.xlabel('Number of states')\n",
    "plt.ylabel('Average validation marginal log prob')\n",
    "plt.grid()\n",
    "plt.show()\n",
    "plt.close()"
   ]
  },
  {
   "cell_type": "code",
   "execution_count": null,
   "id": "1c84cf02",
   "metadata": {},
   "outputs": [],
   "source": [
    "# Data normalized by open price\n",
    "norm_stocks = hd.norm_hlc_by_open(stocks, inplace = False)\n",
    "batches_hlc = hd.batches_norm_hlc_by_open(stocks, period_len)"
   ]
  }
 ],
 "metadata": {
  "kernelspec": {
   "display_name": "Python 3 (Spyder)",
   "language": "python3",
   "name": "python3"
  },
  "language_info": {
   "codemirror_mode": {
    "name": "ipython",
    "version": 3
   },
   "file_extension": ".py",
   "mimetype": "text/x-python",
   "name": "python",
   "nbconvert_exporter": "python",
   "pygments_lexer": "ipython3",
   "version": "3.9.13"
  }
 },
 "nbformat": 4,
 "nbformat_minor": 5
}
