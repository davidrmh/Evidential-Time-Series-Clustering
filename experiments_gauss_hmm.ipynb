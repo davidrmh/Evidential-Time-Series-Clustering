{
 "cells": [
  {
   "cell_type": "markdown",
   "id": "d0ff8c3d",
   "metadata": {},
   "source": [
    "# Experiments Gaussian HHM"
   ]
  },
  {
   "cell_type": "code",
   "execution_count": 1,
   "id": "8b750e1f",
   "metadata": {},
   "outputs": [
    {
     "name": "stderr",
     "output_type": "stream",
     "text": [
      "WARNING:jax._src.lib.xla_bridge:No GPU/TPU found, falling back to CPU. (Set TF_CPP_MIN_LOG_LEVEL=0 and rerun for more info.)\n"
     ]
    }
   ],
   "source": [
    "from dynamax.hidden_markov_model import GaussianHMM\n",
    "from dynamax.hidden_markov_model import DiagonalGaussianHMM\n",
    "from dynamax.hidden_markov_model import SphericalGaussianHMM\n",
    "from dynamax.hidden_markov_model import SharedCovarianceGaussianHMM\n",
    "import matplotlib.pyplot as plt\n",
    "import hmm_datasets as hd\n",
    "import gauss_hmm as gh\n",
    "import jax.random as jr\n",
    "import jax.numpy as jnp"
   ]
  },
  {
   "cell_type": "code",
   "execution_count": 2,
   "id": "97745f27",
   "metadata": {},
   "outputs": [],
   "source": [
    "# Inputs for gathering the data\n",
    "path = './data/stocks'\n",
    "old_first = True\n",
    "start = '2022-01-01'\n",
    "end = '2022-12-31'\n",
    "sep = '_'\n",
    "period_len = 60\n",
    "stocks = hd.StockData(path = path,\n",
    "                      start = start,\n",
    "                      end = end, \n",
    "                      old_first = old_first,\n",
    "                      sep=sep)\n",
    "\n",
    "# Inputs for training the model\n",
    "key = jr.PRNGKey(10)\n",
    "init_method = 'prior'"
   ]
  },
  {
   "cell_type": "markdown",
   "id": "4314845c",
   "metadata": {},
   "source": [
    "## Log returns using Adj Close price\n",
    "\n",
    "* `mkt_ret` (jnp.array) contains the returns of all stocks in one table. Shape is (batches, period_len, attributes)\n",
    "* `stk_ret` (Dict) is a dictionary with arrays containing the returns of each stock series. The shape of each array is (batches, period_len, attributes)"
   ]
  },
  {
   "cell_type": "code",
   "execution_count": 3,
   "id": "01bacbc3",
   "metadata": {},
   "outputs": [],
   "source": [
    "# Log return data\n",
    "returns = stocks.get_log_returns()\n",
    "mkt_ret = hd.join(returns)\n",
    "mkt_ret = hd.create_batches(mkt_ret.to_numpy(),\n",
    "                                  period_len = period_len,\n",
    "                                  old_first = old_first)\n",
    "stk_ret = {}\n",
    "for s in returns.keys():\n",
    "    stk_ret[s] = hd.create_batches(returns[s].to_numpy(), period_len = period_len, old_first = old_first)"
   ]
  },
  {
   "cell_type": "markdown",
   "id": "2b5e0651",
   "metadata": {},
   "source": [
    "### Create folds using one-batch-out\n",
    "* `mkt_folds` (list). List containing the folds for mkt_ret.\n",
    "* `stk_folds` (Dict). Dictionary with lists. Each list contains the fold of a stock series."
   ]
  },
  {
   "cell_type": "code",
   "execution_count": 4,
   "id": "b8bf3859",
   "metadata": {},
   "outputs": [],
   "source": [
    "# Input: Embargo parameter \n",
    "# (See Lopez de Prado - Advances in Financial Machine Learning, Chapter 7)\n",
    "e = 5"
   ]
  },
  {
   "cell_type": "code",
   "execution_count": 5,
   "id": "559dba38",
   "metadata": {},
   "outputs": [],
   "source": [
    "# Folds for mkt_ret\n",
    "mkt_folds = hd.make_folds(mkt_ret, e)"
   ]
  },
  {
   "cell_type": "code",
   "execution_count": 6,
   "id": "e8162ee4",
   "metadata": {},
   "outputs": [],
   "source": [
    "# Folds for each stock\n",
    "stk_folds = {}\n",
    "for s in stk_ret:\n",
    "    stk_folds[s] = hd.make_folds(stk_ret[s], e)"
   ]
  },
  {
   "cell_type": "markdown",
   "id": "402bd1da",
   "metadata": {},
   "source": [
    "### Find the number of hidden states using cross-validation (whole market interpretation)\n",
    "\n",
    "**NOTE**: I can't apply product kernel to this approach (there's nothing to compare with!!)"
   ]
  },
  {
   "cell_type": "code",
   "execution_count": 38,
   "id": "a4f03df7",
   "metadata": {},
   "outputs": [],
   "source": [
    "model = GaussianHMM"
   ]
  },
  {
   "cell_type": "code",
   "execution_count": 39,
   "id": "6784e290",
   "metadata": {},
   "outputs": [
    {
     "name": "stdout",
     "output_type": "stream",
     "text": [
      "\n",
      " === Starting fitting with 2 states === \n",
      "\n",
      " |████████████████████| 100.00% [50/50 00:02<00:00]\n",
      " === Starting fitting with 3 states === \n",
      "\n",
      " |████████████████████| 100.00% [50/50 00:02<00:00]\n",
      " === Starting fitting with 4 states === \n",
      "\n",
      " |████████████████████| 100.00% [50/50 00:02<00:00]\n",
      " Object saved \n",
      "\n"
     ]
    }
   ],
   "source": [
    "# Using whole market perspective\n",
    "states = list(range(2, 5))\n",
    "avgloglike = gh.cross_val_states_em(model, states, mkt_folds, init_method, key)\n",
    "\n",
    "# Save file\n",
    "hd.save_checkpoint(avgloglike, './experiments', 'mkt_avgloglike')"
   ]
  },
  {
   "cell_type": "code",
   "execution_count": 40,
   "id": "1602a530",
   "metadata": {},
   "outputs": [
    {
     "data": {
      "image/png": "[encoded data removed]",
      "text/plain": [
       "<Figure size 432x288 with 1 Axes>"
      ]
     },
     "metadata": {},
     "output_type": "display_data"
    }
   ],
   "source": [
    "plt.plot(states, avgloglike, '.-', markersize = 16)\n",
    "plt.xlabel('Number of states')\n",
    "plt.ylabel('Average validation marginal log prob')\n",
    "plt.title(f'{model.__name__}')\n",
    "plt.grid()\n",
    "plt.show()\n",
    "plt.close()"
   ]
  },
  {
   "cell_type": "code",
   "execution_count": 41,
   "id": "7076e7e1",
   "metadata": {},
   "outputs": [
    {
     "name": "stdout",
     "output_type": "stream",
     "text": [
      " |████████████████████| 100.00% [50/50 00:02<00:00]\r"
     ]
    }
   ],
   "source": [
    "# Train best model for the market as a whole\n",
    "mkt_num_states = states[jnp.argmax(avgloglike)]\n",
    "mkt_model, mkt_param, mkt_loglik = gh.fit_model_em(model, mkt_ret, mkt_num_states, init_method, key)"
   ]
  },
  {
   "cell_type": "code",
   "execution_count": 42,
   "id": "717ac8b7",
   "metadata": {},
   "outputs": [
    {
     "name": "stdout",
     "output_type": "stream",
     "text": [
      "\n",
      " Object saved \n",
      "\n"
     ]
    }
   ],
   "source": [
    "# Save model\n",
    "mkt_dict = {}\n",
    "mkt_dict['model'] = mkt_model\n",
    "mkt_dict['param'] = mkt_param\n",
    "mkt_dict['loglik'] = mkt_loglik\n",
    "hd.save_checkpoint(mkt_dict, './experiments/', 'mkt_model')"
   ]
  },
  {
   "cell_type": "markdown",
   "id": "59494f59",
   "metadata": {},
   "source": [
    "### Find the number of hidden states using cross-validation (stock-wise)"
   ]
  },
  {
   "cell_type": "code",
   "execution_count": 177,
   "id": "31c6122b",
   "metadata": {},
   "outputs": [],
   "source": [
    "model = GaussianHMM\n",
    "states = list(range(2, 11))"
   ]
  },
  {
   "cell_type": "code",
   "execution_count": null,
   "id": "22911497",
   "metadata": {},
   "outputs": [],
   "source": [
    "stk_avg_ll = {}\n",
    "stk_num_states = {}\n",
    "count = 0\n",
    "nstocks = len(stk_folds)\n",
    "for s in stk_folds:\n",
    "    print(f'\\n === Fitting data from {s} === \\n')\n",
    "    # Cross validation for stock s\n",
    "    stk_avg_ll[s] = gh.cross_val_states_em(model, states, stk_folds[s], init_method, key)\n",
    "    stk_num_states[s] = states[jnp.argmax(stk_avg_ll[s])]\n",
    "    \n",
    "    # Save checkpoint if necessary\n",
    "    count = count + 1\n",
    "    if count % 5 == 0:\n",
    "        dict_chk = {'avg_ll':stk_avg_ll, 'num_states': stk_num_states}\n",
    "        hd.save_checkpoint(dict_chk, './experiments/', 'stk_crossval_chk')\n",
    "    print(f'\\n ===== {nstocks - count} Stocks remaining ===== \\n')"
   ]
  },
  {
   "cell_type": "code",
   "execution_count": null,
   "id": "27bae250",
   "metadata": {},
   "outputs": [],
   "source": [
    "for s in stk_avg_ll:\n",
    "    plt.plot(states, stk_avg_ll[s], '.-', markersize = 16)\n",
    "    plt.xlabel('Number of states')\n",
    "    plt.ylabel('Average validation marginal log prob')\n",
    "    plt.title(f'{model.__name__}_{s}')\n",
    "    plt.grid()\n",
    "    plt.show()\n",
    "    plt.close()"
   ]
  },
  {
   "cell_type": "code",
   "execution_count": 196,
   "id": "42273c23",
   "metadata": {},
   "outputs": [
    {
     "name": "stdout",
     "output_type": "stream",
     "text": [
      "\n",
      " === Fitting data from AAPL === \n",
      "\n",
      " |████████████████████| 100.00% [50/50 00:01<00:00]\n",
      " Object saved \n",
      "\n",
      "\n",
      " ===== 48 Stocks remaining ===== \n",
      "\n",
      "\n",
      " === Fitting data from HD === \n",
      "\n",
      " |████████████████████| 100.00% [50/50 00:01<00:00]\n",
      " Object saved \n",
      "\n",
      "\n",
      " ===== 47 Stocks remaining ===== \n",
      "\n"
     ]
    }
   ],
   "source": [
    "# Fitting best models\n",
    "count = 0\n",
    "dict_stk_models = {}\n",
    "for s in stk_num_states:\n",
    "    print(f'\\n === Fitting data from {s} === \\n')\n",
    "    stk_model, stk_param, stk_loglik = gh.fit_model_em(model, stk_ret[s], stk_num_states[s], init_method, key)\n",
    "    dict_stk_models[s] = {'model': stk_model, 'param': stk_param, 'loglik': stk_loglik}\n",
    "    count = count + 1\n",
    "    hd.save_checkpoint(dict_stk_models, './experiments/', 'stk_models_chk')\n",
    "    print(f'\\n ===== {nstocks - count} Stocks remaining ===== \\n') "
   ]
  },
  {
   "cell_type": "code",
   "execution_count": null,
   "id": "8164c398",
   "metadata": {},
   "outputs": [],
   "source": [
    "# Data normalized by open price\n",
    "norm_stocks = hd.norm_hlc_by_open(stocks, inplace = False)\n",
    "batches_hlc = hd.batches_norm_hlc_by_open(stocks, period_len)"
   ]
  }
 ],
 "metadata": {
  "kernelspec": {
   "display_name": "Python 3 (Spyder)",
   "language": "python3",
   "name": "python3"
  },
  "language_info": {
   "codemirror_mode": {
    "name": "ipython",
    "version": 3
   },
   "file_extension": ".py",
   "mimetype": "text/x-python",
   "name": "python",
   "nbconvert_exporter": "python",
   "pygments_lexer": "ipython3",
   "version": "3.9.13"
  }
 },
 "nbformat": 4,
 "nbformat_minor": 5
}
